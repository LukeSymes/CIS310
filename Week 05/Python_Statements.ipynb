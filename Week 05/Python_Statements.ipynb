{
 "cells": [
  {
   "cell_type": "markdown",
   "metadata": {},
   "source": [
    "# Luke Symes\n",
    "## Week 05 - 02/21/2021\n",
    "### Python Statements [if,else,elif]"
   ]
  },
  {
   "cell_type": "markdown",
   "metadata": {},
   "source": [
    "if condition1:\n",
    "    perform action1\n",
    "elif case 2:\n",
    "    perform action2\n",
    "else:\n",
    "    perform action3"
   ]
  },
  {
   "cell_type": "code",
   "execution_count": 1,
   "metadata": {},
   "outputs": [
    {
     "name": "stdout",
     "output_type": "stream",
     "text": [
      "It was correct!\n"
     ]
    }
   ],
   "source": [
    "if True:\n",
    "    print(\"It was correct!\")"
   ]
  },
  {
   "cell_type": "code",
   "execution_count": 2,
   "metadata": {},
   "outputs": [
    {
     "name": "stdout",
     "output_type": "stream",
     "text": [
      "Hi Five!\n"
     ]
    }
   ],
   "source": [
    "value = 5\n",
    "\n",
    "if value == 5:\n",
    "    print(\"Hi Five!\")\n",
    "else:\n",
    "    print(\"Let's try again!\")"
   ]
  },
  {
   "cell_type": "code",
   "execution_count": 3,
   "metadata": {},
   "outputs": [
    {
     "name": "stdout",
     "output_type": "stream",
     "text": [
      "Let's try again!\n"
     ]
    }
   ],
   "source": [
    "value = 6\n",
    "\n",
    "if value == 5:\n",
    "    print(\"Hi Five!\")\n",
    "else:\n",
    "    print(\"Let's try again!\")"
   ]
  },
  {
   "cell_type": "code",
   "execution_count": 4,
   "metadata": {},
   "outputs": [
    {
     "name": "stdout",
     "output_type": "stream",
     "text": [
      "You may redo test2\n"
     ]
    }
   ],
   "source": [
    "test1 = 98\n",
    "test2 = 87\n",
    "\n",
    "if test2 < test1:\n",
    "    print(\"You may redo test2\")"
   ]
  },
  {
   "cell_type": "code",
   "execution_count": 5,
   "metadata": {},
   "outputs": [
    {
     "name": "stdout",
     "output_type": "stream",
     "text": [
      "Then, redo test1\n"
     ]
    }
   ],
   "source": [
    "test1 = 98\n",
    "test2 = 87\n",
    "\n",
    "if test1 < test2:\n",
    "    print(\"You may redo test2\")\n",
    "else:\n",
    "    print(\"Then, redo test1\")"
   ]
  },
  {
   "cell_type": "code",
   "execution_count": 6,
   "metadata": {},
   "outputs": [
    {
     "name": "stdout",
     "output_type": "stream",
     "text": [
      "You may redo test2\n"
     ]
    }
   ],
   "source": [
    "if test2 < test1:\n",
    "    print(\"You may redo test2\")"
   ]
  },
  {
   "cell_type": "code",
   "execution_count": 7,
   "metadata": {},
   "outputs": [
    {
     "name": "stdout",
     "output_type": "stream",
     "text": [
      "test1 and test2 scored are equal!\n"
     ]
    }
   ],
   "source": [
    "test1 = 79\n",
    "test2 = 79\n",
    "\n",
    "if test1 > test2:\n",
    "    print(\"test1 is greater than test2\")\n",
    "    print(\"You may think to redo test 2!\")\n",
    "elif test2 > test1:\n",
    "    print(\"test2 is greater than test1\")\n",
    "    print(\"you may think about redoing test1, instead\")\n",
    "else:\n",
    "    print(\"test1 and test2 scored are equal!\")"
   ]
  },
  {
   "cell_type": "code",
   "execution_count": 8,
   "metadata": {},
   "outputs": [],
   "source": [
    "#short hand if Statement\n",
    "if test1 > test2:print(\"test1 is greater than test2\")"
   ]
  },
  {
   "cell_type": "code",
   "execution_count": 9,
   "metadata": {},
   "outputs": [
    {
     "name": "stdout",
     "output_type": "stream",
     "text": [
      "test2\n"
     ]
    }
   ],
   "source": [
    "#short Hand if... Else\n",
    "print(\"test1\") if test1 > test2 else print(\"test2\")"
   ]
  },
  {
   "cell_type": "code",
   "execution_count": 10,
   "metadata": {},
   "outputs": [
    {
     "name": "stdout",
     "output_type": "stream",
     "text": [
      "Welcome to Colorado!\n"
     ]
    }
   ],
   "source": [
    "s = \"Colorado\"\n",
    "\n",
    "if s == \"Colorado\":\n",
    "    print(\"Welcome to Colorado!\")\n",
    "elif s == \"Florida\":\n",
    "    print(\"Welcome to Florida!\")\n",
    "elif s == \"Alaska\":\n",
    "    print(\"Welcome to Alaska\")\n",
    "else:\n",
    "    print(\"Where are you now?\")"
   ]
  },
  {
   "cell_type": "code",
   "execution_count": 11,
   "metadata": {},
   "outputs": [
    {
     "name": "stdout",
     "output_type": "stream",
     "text": [
      "Both conditions are evaluated to True!\n"
     ]
    }
   ],
   "source": [
    "#And\n",
    "s1 = 89\n",
    "s2 = 75\n",
    "s3 = 92\n",
    "\n",
    "if s1 > s2 and s3 > s2:\n",
    "    print(\"Both conditions are evaluated to True!\")"
   ]
  },
  {
   "cell_type": "code",
   "execution_count": 13,
   "metadata": {},
   "outputs": [
    {
     "name": "stdout",
     "output_type": "stream",
     "text": [
      "At least one of the conditions is evaluated to True!\n"
     ]
    }
   ],
   "source": [
    "#or logical operator\n",
    "if s1 < s2 or s3 > s2:\n",
    "    print(\"At least one of the conditions is evaluated to True!\")"
   ]
  },
  {
   "cell_type": "code",
   "execution_count": 15,
   "metadata": {},
   "outputs": [
    {
     "name": "stdout",
     "output_type": "stream",
     "text": [
      "Above 40,\n",
      "but not above 80.\n"
     ]
    }
   ],
   "source": [
    "#Nested if statement\n",
    "s1 = 80\n",
    "\n",
    "if s1 > 40:\n",
    "    print(\"Above 40,\")\n",
    "    if s1 > 80:\n",
    "        print(\" and also above 60!\")\n",
    "    else:\n",
    "        print(\"but not above 80.\")"
   ]
  },
  {
   "cell_type": "code",
   "execution_count": 16,
   "metadata": {},
   "outputs": [],
   "source": [
    "if s1 > 60:\n",
    "    pass"
   ]
  },
  {
   "cell_type": "code",
   "execution_count": null,
   "metadata": {},
   "outputs": [],
   "source": []
  }
 ],
 "metadata": {
  "kernelspec": {
   "display_name": "Python 3.7 - default",
   "language": "python",
   "name": "py37_default"
  },
  "language_info": {
   "codemirror_mode": {
    "name": "ipython",
    "version": 3
   },
   "file_extension": ".py",
   "mimetype": "text/x-python",
   "name": "python",
   "nbconvert_exporter": "python",
   "pygments_lexer": "ipython3",
   "version": "3.7.7"
  }
 },
 "nbformat": 4,
 "nbformat_minor": 4
}
